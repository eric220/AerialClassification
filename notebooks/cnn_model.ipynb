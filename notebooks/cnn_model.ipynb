{
 "cells": [
  {
   "cell_type": "code",
   "execution_count": 33,
   "id": "7eba1c0a",
   "metadata": {},
   "outputs": [],
   "source": [
    "import numpy as np\n",
    "from glob import glob\n",
    "import matplotlib.pyplot as plt\n",
    "import seaborn as sn\n",
    "from tensorflow.keras.preprocessing import image    \n",
    "from sklearn.metrics import accuracy_score, confusion_matrix\n",
    "from tqdm import tqdm\n",
    "from PIL import ImageFile                            \n",
    "ImageFile.LOAD_TRUNCATED_IMAGES = True \n",
    "from sklearn.model_selection import train_test_split\n",
    "from sklearn.preprocessing import LabelEncoder\n",
    "from tensorflow.keras.layers import Dense, GlobalAveragePooling2D, Activation, Dropout\n",
    "from tensorflow.keras.models import Model\n",
    "from tensorflow.keras import optimizers\n",
    "from tensorflow.keras import applications\n",
    "from tensorflow.keras.callbacks import ModelCheckpoint, ReduceLROnPlateau, EarlyStopping"
   ]
  },
  {
   "cell_type": "code",
   "execution_count": 2,
   "id": "0014976a",
   "metadata": {},
   "outputs": [
    {
     "data": {
      "text/html": [
       "<div>\n",
       "<style scoped>\n",
       "    .dataframe tbody tr th:only-of-type {\n",
       "        vertical-align: middle;\n",
       "    }\n",
       "\n",
       "    .dataframe tbody tr th {\n",
       "        vertical-align: top;\n",
       "    }\n",
       "\n",
       "    .dataframe thead th {\n",
       "        text-align: right;\n",
       "    }\n",
       "</style>\n",
       "<table border=\"1\" class=\"dataframe\">\n",
       "  <thead>\n",
       "    <tr style=\"text-align: right;\">\n",
       "      <th></th>\n",
       "      <th>file_path</th>\n",
       "      <th>category</th>\n",
       "    </tr>\n",
       "  </thead>\n",
       "  <tbody>\n",
       "    <tr>\n",
       "      <th>0</th>\n",
       "      <td>../data/raw/AID/Pond/pond_251.jpg</td>\n",
       "      <td>Pond</td>\n",
       "    </tr>\n",
       "    <tr>\n",
       "      <th>1</th>\n",
       "      <td>../data/raw/AID/Pond/pond_245.jpg</td>\n",
       "      <td>Pond</td>\n",
       "    </tr>\n",
       "    <tr>\n",
       "      <th>2</th>\n",
       "      <td>../data/raw/AID/Pond/pond_24.jpg</td>\n",
       "      <td>Pond</td>\n",
       "    </tr>\n",
       "    <tr>\n",
       "      <th>3</th>\n",
       "      <td>../data/raw/AID/Pond/pond_30.jpg</td>\n",
       "      <td>Pond</td>\n",
       "    </tr>\n",
       "    <tr>\n",
       "      <th>4</th>\n",
       "      <td>../data/raw/AID/Pond/pond_18.jpg</td>\n",
       "      <td>Pond</td>\n",
       "    </tr>\n",
       "  </tbody>\n",
       "</table>\n",
       "</div>"
      ],
      "text/plain": [
       "                           file_path category\n",
       "0  ../data/raw/AID/Pond/pond_251.jpg     Pond\n",
       "1  ../data/raw/AID/Pond/pond_245.jpg     Pond\n",
       "2   ../data/raw/AID/Pond/pond_24.jpg     Pond\n",
       "3   ../data/raw/AID/Pond/pond_30.jpg     Pond\n",
       "4   ../data/raw/AID/Pond/pond_18.jpg     Pond"
      ]
     },
     "execution_count": 2,
     "metadata": {},
     "output_type": "execute_result"
    }
   ],
   "source": [
    "df = pd.read_csv('../data/interim/file_dataframe.csv')\n",
    "df.head()"
   ]
  },
  {
   "cell_type": "code",
   "execution_count": 3,
   "id": "51d53159",
   "metadata": {},
   "outputs": [],
   "source": [
    "le = LabelEncoder()\n",
    "y = le.fit_transform(df['category'])\n",
    "x = df['file_path']"
   ]
  },
  {
   "cell_type": "code",
   "execution_count": 4,
   "id": "88e9db74",
   "metadata": {},
   "outputs": [],
   "source": [
    "x_train, x_test, y_train, y_test = train_test_split(x, y, test_size = .2)"
   ]
  },
  {
   "cell_type": "code",
   "execution_count": 5,
   "id": "7929ad2d",
   "metadata": {},
   "outputs": [
    {
     "name": "stderr",
     "output_type": "stream",
     "text": [
      "100%|██████████████████████████████████████| 7995/7995 [00:48<00:00, 165.49it/s]\n",
      "100%|██████████████████████████████████████| 1999/1999 [00:12<00:00, 162.90it/s]\n"
     ]
    }
   ],
   "source": [
    "def path_to_tensor(img_path):\n",
    "    img = image.load_img(img_path, target_size=(224, 224))\n",
    "    x = image.img_to_array(img)\n",
    "    return np.expand_dims(x, axis=0)\n",
    "\n",
    "def paths_to_tensor(img_paths):\n",
    "    list_of_tensors = [path_to_tensor(img_path) for img_path in tqdm(img_paths)]\n",
    "    return np.vstack(list_of_tensors)              \n",
    "\n",
    "# pre-process the data for Keras\n",
    "train_tensors = paths_to_tensor(x_train).astype('float32')/255\n",
    "valid_tensors = paths_to_tensor(x_test).astype('float32')/255"
   ]
  },
  {
   "cell_type": "code",
   "execution_count": 6,
   "id": "3c04a288",
   "metadata": {},
   "outputs": [
    {
     "name": "stderr",
     "output_type": "stream",
     "text": [
      "2022-08-03 11:05:43.937109: I tensorflow/core/platform/cpu_feature_guard.cc:145] This TensorFlow binary is optimized with Intel(R) MKL-DNN to use the following CPU instructions in performance critical operations:  SSE4.1 SSE4.2 AVX AVX2 FMA\n",
      "To enable them in non-MKL-DNN operations, rebuild TensorFlow with the appropriate compiler flags.\n",
      "2022-08-03 11:05:43.937456: I tensorflow/core/common_runtime/process_util.cc:115] Creating new thread pool with default inter op setting: 8. Tune using inter_op_parallelism_threads for best performance.\n"
     ]
    }
   ],
   "source": [
    "img_width, img_height = 224,224\n",
    "channels = 3\n",
    "VGG_model = applications.VGG19(weights= 'imagenet', include_top = False, input_shape = (img_width, img_height, channels))\n",
    "\n",
    "###Freeze VGG Layers\n",
    "for layer in VGG_model.layers[:17]:\n",
    "    layer.trainable = False"
   ]
  },
  {
   "cell_type": "code",
   "execution_count": 12,
   "id": "2516bd97",
   "metadata": {},
   "outputs": [],
   "source": [
    "num_classes = 30\n",
    "\n",
    "x = VGG_model.output\n",
    "#x = Dropout(0.4)(x)\n",
    "x = Activation('relu')(x)\n",
    "x = GlobalAveragePooling2D()(x)\n",
    "x = Dense(512)(x)\n",
    "x = Activation('relu')(x)\n",
    "x = Dropout(0.3)(x)\n",
    "x = Dense(512)(x)\n",
    "x = Activation('relu')(x)\n",
    "x = Dropout(0.3)(x)\n",
    "predictions = Dense(num_classes, activation = 'softmax')(x)\n",
    "\n",
    "model_final = Model(VGG_model.input, predictions)"
   ]
  },
  {
   "cell_type": "code",
   "execution_count": 13,
   "id": "d91f908a",
   "metadata": {},
   "outputs": [
    {
     "name": "stdout",
     "output_type": "stream",
     "text": [
      "Model: \"model_1\"\n",
      "_________________________________________________________________\n",
      "Layer (type)                 Output Shape              Param #   \n",
      "=================================================================\n",
      "input_1 (InputLayer)         [(None, 224, 224, 3)]     0         \n",
      "_________________________________________________________________\n",
      "block1_conv1 (Conv2D)        (None, 224, 224, 64)      1792      \n",
      "_________________________________________________________________\n",
      "block1_conv2 (Conv2D)        (None, 224, 224, 64)      36928     \n",
      "_________________________________________________________________\n",
      "block1_pool (MaxPooling2D)   (None, 112, 112, 64)      0         \n",
      "_________________________________________________________________\n",
      "block2_conv1 (Conv2D)        (None, 112, 112, 128)     73856     \n",
      "_________________________________________________________________\n",
      "block2_conv2 (Conv2D)        (None, 112, 112, 128)     147584    \n",
      "_________________________________________________________________\n",
      "block2_pool (MaxPooling2D)   (None, 56, 56, 128)       0         \n",
      "_________________________________________________________________\n",
      "block3_conv1 (Conv2D)        (None, 56, 56, 256)       295168    \n",
      "_________________________________________________________________\n",
      "block3_conv2 (Conv2D)        (None, 56, 56, 256)       590080    \n",
      "_________________________________________________________________\n",
      "block3_conv3 (Conv2D)        (None, 56, 56, 256)       590080    \n",
      "_________________________________________________________________\n",
      "block3_conv4 (Conv2D)        (None, 56, 56, 256)       590080    \n",
      "_________________________________________________________________\n",
      "block3_pool (MaxPooling2D)   (None, 28, 28, 256)       0         \n",
      "_________________________________________________________________\n",
      "block4_conv1 (Conv2D)        (None, 28, 28, 512)       1180160   \n",
      "_________________________________________________________________\n",
      "block4_conv2 (Conv2D)        (None, 28, 28, 512)       2359808   \n",
      "_________________________________________________________________\n",
      "block4_conv3 (Conv2D)        (None, 28, 28, 512)       2359808   \n",
      "_________________________________________________________________\n",
      "block4_conv4 (Conv2D)        (None, 28, 28, 512)       2359808   \n",
      "_________________________________________________________________\n",
      "block4_pool (MaxPooling2D)   (None, 14, 14, 512)       0         \n",
      "_________________________________________________________________\n",
      "block5_conv1 (Conv2D)        (None, 14, 14, 512)       2359808   \n",
      "_________________________________________________________________\n",
      "block5_conv2 (Conv2D)        (None, 14, 14, 512)       2359808   \n",
      "_________________________________________________________________\n",
      "block5_conv3 (Conv2D)        (None, 14, 14, 512)       2359808   \n",
      "_________________________________________________________________\n",
      "block5_conv4 (Conv2D)        (None, 14, 14, 512)       2359808   \n",
      "_________________________________________________________________\n",
      "block5_pool (MaxPooling2D)   (None, 7, 7, 512)         0         \n",
      "_________________________________________________________________\n",
      "activation_3 (Activation)    (None, 7, 7, 512)         0         \n",
      "_________________________________________________________________\n",
      "global_average_pooling2d_1 ( (None, 512)               0         \n",
      "_________________________________________________________________\n",
      "dense_3 (Dense)              (None, 512)               262656    \n",
      "_________________________________________________________________\n",
      "activation_4 (Activation)    (None, 512)               0         \n",
      "_________________________________________________________________\n",
      "dropout_2 (Dropout)          (None, 512)               0         \n",
      "_________________________________________________________________\n",
      "dense_4 (Dense)              (None, 512)               262656    \n",
      "_________________________________________________________________\n",
      "activation_5 (Activation)    (None, 512)               0         \n",
      "_________________________________________________________________\n",
      "dropout_3 (Dropout)          (None, 512)               0         \n",
      "_________________________________________________________________\n",
      "dense_5 (Dense)              (None, 30)                15390     \n",
      "=================================================================\n",
      "Total params: 20,565,086\n",
      "Trainable params: 9,979,934\n",
      "Non-trainable params: 10,585,152\n",
      "_________________________________________________________________\n"
     ]
    }
   ],
   "source": [
    "model_final.summary()"
   ]
  },
  {
   "cell_type": "code",
   "execution_count": 14,
   "id": "46b5d69b",
   "metadata": {},
   "outputs": [],
   "source": [
    "model_final.compile(loss='sparse_categorical_crossentropy', optimizer = 'adam', metrics = ['accuracy'])"
   ]
  },
  {
   "cell_type": "code",
   "execution_count": 15,
   "id": "c4e0edf3",
   "metadata": {},
   "outputs": [],
   "source": [
    "checkpoint = ModelCheckpoint('sat_model.hdf5', monitor = 'val_loss', save_best_only = True, verbose = True)\n",
    "reduce_lr = ReduceLROnPlateau(monitor='val_loss', factor=0.5, patience= 3, min_lr=0.00001, verbose = 1)\n",
    "early_stop = EarlyStopping(monitor= 'val_loss', min_delta=0, patience=7)\n",
    "callbacks_list = [checkpoint, reduce_lr, early_stop]"
   ]
  },
  {
   "cell_type": "code",
   "execution_count": 16,
   "id": "d94bdc09",
   "metadata": {},
   "outputs": [
    {
     "name": "stdout",
     "output_type": "stream",
     "text": [
      "Train on 7195 samples, validate on 800 samples\n",
      "Epoch 1/30\n",
      "7168/7195 [============================>.] - ETA: 15s - loss: 1.4522 - accuracy: 0.5844 \n",
      "Epoch 00001: val_loss improved from inf to 0.87987, saving model to sat_model.hdf5\n",
      "7195/7195 [==============================] - 4687s 651ms/sample - loss: 1.4512 - accuracy: 0.5846 - val_loss: 0.8799 - val_accuracy: 0.7275\n",
      "Epoch 2/30\n",
      "7168/7195 [============================>.] - ETA: 15s - loss: 0.6518 - accuracy: 0.7966 \n",
      "Epoch 00002: val_loss improved from 0.87987 to 0.74771, saving model to sat_model.hdf5\n",
      "7195/7195 [==============================] - 4687s 651ms/sample - loss: 0.6515 - accuracy: 0.7968 - val_loss: 0.7477 - val_accuracy: 0.7663\n",
      "Epoch 3/30\n",
      "7168/7195 [============================>.] - ETA: 16s - loss: 0.4973 - accuracy: 0.8499 \n",
      "Epoch 00003: val_loss improved from 0.74771 to 0.71578, saving model to sat_model.hdf5\n",
      "7195/7195 [==============================] - 4702s 654ms/sample - loss: 0.4975 - accuracy: 0.8499 - val_loss: 0.7158 - val_accuracy: 0.7937\n",
      "Epoch 4/30\n",
      "7168/7195 [============================>.] - ETA: 15s - loss: 0.3919 - accuracy: 0.8785 \n",
      "Epoch 00004: val_loss improved from 0.71578 to 0.64292, saving model to sat_model.hdf5\n",
      "7195/7195 [==============================] - 4692s 652ms/sample - loss: 0.3912 - accuracy: 0.8788 - val_loss: 0.6429 - val_accuracy: 0.8263\n",
      "Epoch 5/30\n",
      "7168/7195 [============================>.] - ETA: 16s - loss: 0.3195 - accuracy: 0.8968 \n",
      "Epoch 00005: val_loss improved from 0.64292 to 0.62641, saving model to sat_model.hdf5\n",
      "7195/7195 [==============================] - 4696s 653ms/sample - loss: 0.3206 - accuracy: 0.8965 - val_loss: 0.6264 - val_accuracy: 0.8225\n",
      "Epoch 6/30\n",
      "7168/7195 [============================>.] - ETA: 16s - loss: 0.2733 - accuracy: 0.9148 \n",
      "Epoch 00006: val_loss did not improve from 0.62641\n",
      "7195/7195 [==============================] - 4697s 653ms/sample - loss: 0.2730 - accuracy: 0.9149 - val_loss: 0.7114 - val_accuracy: 0.7950\n",
      "Epoch 7/30\n",
      "7168/7195 [============================>.] - ETA: 16s - loss: 0.2358 - accuracy: 0.9231 \n",
      "Epoch 00007: val_loss did not improve from 0.62641\n",
      "7195/7195 [==============================] - 4702s 654ms/sample - loss: 0.2354 - accuracy: 0.9233 - val_loss: 0.7295 - val_accuracy: 0.8313\n",
      "Epoch 8/30\n",
      "7168/7195 [============================>.] - ETA: 16s - loss: 0.2143 - accuracy: 0.9323 \n",
      "Epoch 00008: val_loss did not improve from 0.62641\n",
      "\n",
      "Epoch 00008: ReduceLROnPlateau reducing learning rate to 0.0005000000237487257.\n",
      "7195/7195 [==============================] - 4706s 654ms/sample - loss: 0.2144 - accuracy: 0.9323 - val_loss: 0.8182 - val_accuracy: 0.8000\n",
      "Epoch 9/30\n",
      "7168/7195 [============================>.] - ETA: 16s - loss: 0.1263 - accuracy: 0.9628 \n",
      "Epoch 00009: val_loss improved from 0.62641 to 0.59110, saving model to sat_model.hdf5\n",
      "7195/7195 [==============================] - 4696s 653ms/sample - loss: 0.1259 - accuracy: 0.9629 - val_loss: 0.5911 - val_accuracy: 0.8662\n",
      "Epoch 10/30\n",
      "7168/7195 [============================>.] - ETA: 15s - loss: 0.0630 - accuracy: 0.9810 \n",
      "Epoch 00010: val_loss did not improve from 0.59110\n",
      "7195/7195 [==============================] - 4687s 651ms/sample - loss: 0.0629 - accuracy: 0.9810 - val_loss: 0.6358 - val_accuracy: 0.8562\n",
      "Epoch 11/30\n",
      "7168/7195 [============================>.] - ETA: 15s - loss: 0.0444 - accuracy: 0.9865 \n",
      "Epoch 00011: val_loss did not improve from 0.59110\n",
      "7195/7195 [==============================] - 4752s 661ms/sample - loss: 0.0442 - accuracy: 0.9865 - val_loss: 0.7066 - val_accuracy: 0.8637\n",
      "Epoch 12/30\n",
      "7168/7195 [============================>.] - ETA: 16s - loss: 0.0330 - accuracy: 0.9888 \n",
      "Epoch 00012: val_loss did not improve from 0.59110\n",
      "\n",
      "Epoch 00012: ReduceLROnPlateau reducing learning rate to 0.0002500000118743628.\n",
      "7195/7195 [==============================] - 4785s 665ms/sample - loss: 0.0329 - accuracy: 0.9889 - val_loss: 0.8266 - val_accuracy: 0.8575\n",
      "Epoch 13/30\n",
      "7168/7195 [============================>.] - ETA: 15s - loss: 0.0221 - accuracy: 0.9927 \n",
      "Epoch 00013: val_loss did not improve from 0.59110\n",
      "7195/7195 [==============================] - 4681s 651ms/sample - loss: 0.0220 - accuracy: 0.9928 - val_loss: 0.7563 - val_accuracy: 0.8475\n",
      "Epoch 14/30\n",
      "7168/7195 [============================>.] - ETA: 15s - loss: 0.0094 - accuracy: 0.9967 \n",
      "Epoch 00014: val_loss did not improve from 0.59110\n",
      "7195/7195 [==============================] - 4668s 649ms/sample - loss: 0.0094 - accuracy: 0.9967 - val_loss: 0.7747 - val_accuracy: 0.8562\n",
      "Epoch 15/30\n",
      "7168/7195 [============================>.] - ETA: 15s - loss: 0.0074 - accuracy: 0.9987 \n",
      "Epoch 00015: val_loss did not improve from 0.59110\n",
      "\n",
      "Epoch 00015: ReduceLROnPlateau reducing learning rate to 0.0001250000059371814.\n",
      "7195/7195 [==============================] - 4675s 650ms/sample - loss: 0.0074 - accuracy: 0.9987 - val_loss: 0.8294 - val_accuracy: 0.8512\n",
      "Epoch 16/30\n",
      "7168/7195 [============================>.] - ETA: 15s - loss: 0.0060 - accuracy: 0.9985 \n",
      "Epoch 00016: val_loss did not improve from 0.59110\n",
      "7195/7195 [==============================] - 4684s 651ms/sample - loss: 0.0059 - accuracy: 0.9985 - val_loss: 0.8380 - val_accuracy: 0.8525\n"
     ]
    }
   ],
   "source": [
    "hist = model_final.fit(train_tensors, y_train, batch_size = 128, callbacks = callbacks_list, epochs=30,\n",
    "                       validation_split=0.1)"
   ]
  },
  {
   "cell_type": "code",
   "execution_count": 19,
   "id": "f2773a72",
   "metadata": {},
   "outputs": [
    {
     "data": {
      "image/png": "[encoded data removed]",
      "text/plain": [
       "<Figure size 432x288 with 1 Axes>"
      ]
     },
     "metadata": {
      "needs_background": "light"
     },
     "output_type": "display_data"
    }
   ],
   "source": [
    "plt.title('Accuracy')\n",
    "plt.plot(hist.history['accuracy'])\n",
    "plt.plot(hist.history['val_accuracy'])\n",
    "plt.xlabel('epoch')\n",
    "plt.legend(['train', 'val'], loc='upper left')\n",
    "plt.show()"
   ]
  },
  {
   "cell_type": "code",
   "execution_count": 20,
   "id": "381282da",
   "metadata": {},
   "outputs": [
    {
     "data": {
      "image/png": "[encoded data removed]",
      "text/plain": [
       "<Figure size 432x288 with 1 Axes>"
      ]
     },
     "metadata": {
      "needs_background": "light"
     },
     "output_type": "display_data"
    }
   ],
   "source": [
    "plt.title('Loss')\n",
    "plt.plot(hist.history['loss'])\n",
    "plt.plot(hist.history['val_loss'])\n",
    "plt.legend(['train', 'val'], loc='upper right')\n",
    "plt.show()"
   ]
  },
  {
   "cell_type": "code",
   "execution_count": 23,
   "id": "3b8f23ca",
   "metadata": {},
   "outputs": [],
   "source": [
    "preds = model_final.predict(valid_tensors)"
   ]
  },
  {
   "cell_type": "code",
   "execution_count": 27,
   "id": "2d49d608",
   "metadata": {},
   "outputs": [],
   "source": [
    "pred_max = [np.argmax(p) for p in preds]"
   ]
  },
  {
   "cell_type": "code",
   "execution_count": 37,
   "id": "288dab50",
   "metadata": {},
   "outputs": [
    {
     "data": {
      "text/plain": [
       "0.8519259629814907"
      ]
     },
     "execution_count": 37,
     "metadata": {},
     "output_type": "execute_result"
    }
   ],
   "source": [
    "accuracy_score(pred_max, y_test)"
   ]
  },
  {
   "cell_type": "code",
   "execution_count": 53,
   "id": "c2249e50",
   "metadata": {},
   "outputs": [
    {
     "data": {
      "image/png": "[encoded data removed]",
      "text/plain": [
       "<Figure size 720x576 with 2 Axes>"
      ]
     },
     "metadata": {
      "needs_background": "light"
     },
     "output_type": "display_data"
    }
   ],
   "source": [
    "plt.figure(figsize = (10,8))\n",
    "labels = le.inverse_transform(np.arange(30))\n",
    "cm = confusion_matrix(pred_max, y_test)\n",
    "sn.heatmap(cm, cmap = 'Blues', xticklabels = labels, yticklabels = labels)\n",
    "plt.title('Confusion Matrix Heatmap');"
   ]
  },
  {
   "cell_type": "code",
   "execution_count": null,
   "id": "db15ec52",
   "metadata": {},
   "outputs": [],
   "source": []
  }
 ],
 "metadata": {
  "kernelspec": {
   "display_name": "Python [conda env:satview] *",
   "language": "python",
   "name": "conda-env-satview-py"
  },
  "language_info": {
   "codemirror_mode": {
    "name": "ipython",
    "version": 3
   },
   "file_extension": ".py",
   "mimetype": "text/x-python",
   "name": "python",
   "nbconvert_exporter": "python",
   "pygments_lexer": "ipython3",
   "version": "3.7.13"
  }
 },
 "nbformat": 4,
 "nbformat_minor": 5
}
