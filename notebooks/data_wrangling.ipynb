{
 "cells": [
  {
   "cell_type": "code",
   "execution_count": 1,
   "id": "e28330e9",
   "metadata": {},
   "outputs": [],
   "source": [
    "import glob\n",
    "import numpy as np\n",
    "from sklearn.model_selection import train_test_split\n",
    "from tensorflow.keras.preprocessing import image                  \n",
    "from tqdm import tqdm\n",
    "from PIL import ImageFile \n",
    "import PIL\n",
    "ImageFile.LOAD_TRUNCATED_IMAGES = True \n",
    "import numpy as np\n",
    "import pandas as pd\n",
    "from PIL import Image\n",
    "import os"
   ]
  },
  {
   "cell_type": "markdown",
   "id": "bbdc52b4",
   "metadata": {},
   "source": [
    "Intro: https://captain-whu.github.io/AID/\n",
    "        \n",
    "Dataset: https://1drv.ms/u/s!AthY3vMZmuxChNR0Co7QHpJ56M-SvQ\n",
    "        \n",
    "Paper: https://arxiv.org/pdf/1608.05167.pdf"
   ]
  },
  {
   "cell_type": "code",
   "execution_count": 2,
   "id": "0010d065",
   "metadata": {},
   "outputs": [],
   "source": [
    "filepaths = glob.glob('../data/raw/AID/*')\n",
    "all_files = []\n",
    "for f in filepaths:\n",
    "    file_names = glob.glob('{}/*' .format(f))\n",
    "    all_files.append(file_names)\n",
    "file_names = [f for g in all_files for f in g]\n",
    "labels = [f.split('/')[-2] for f in file_names]"
   ]
  },
  {
   "cell_type": "code",
   "execution_count": 3,
   "id": "1201a4b9",
   "metadata": {},
   "outputs": [
    {
     "data": {
      "text/plain": [
       "'../data/raw/AID/Pond/pond_251.jpg'"
      ]
     },
     "execution_count": 3,
     "metadata": {},
     "output_type": "execute_result"
    }
   ],
   "source": [
    "file_names[0]"
   ]
  },
  {
   "cell_type": "code",
   "execution_count": 4,
   "id": "6a4f39d9",
   "metadata": {},
   "outputs": [],
   "source": [
    "df = pd.DataFrame({\n",
    "    'file_path': file_names,\n",
    "    'category': labels\n",
    "})\n",
    "df.to_csv('../data/interim/file_dataframe.csv', index = False)"
   ]
  }
 ],
 "metadata": {
  "kernelspec": {
   "display_name": "Python [conda env:satview] *",
   "language": "python",
   "name": "conda-env-satview-py"
  },
  "language_info": {
   "codemirror_mode": {
    "name": "ipython",
    "version": 3
   },
   "file_extension": ".py",
   "mimetype": "text/x-python",
   "name": "python",
   "nbconvert_exporter": "python",
   "pygments_lexer": "ipython3",
   "version": "3.7.13"
  }
 },
 "nbformat": 4,
 "nbformat_minor": 5
}
